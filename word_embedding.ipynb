{
  "nbformat": 4,
  "nbformat_minor": 0,
  "metadata": {
    "colab": {
      "provenance": []
    },
    "kernelspec": {
      "name": "python3",
      "display_name": "Python 3"
    },
    "language_info": {
      "name": "python"
    }
  },
  "cells": [
    {
      "cell_type": "code",
      "execution_count": 4,
      "metadata": {
        "id": "WoedUSEdcN3L"
      },
      "outputs": [],
      "source": [
        "import torch\n",
        "import torch.nn as nn\n",
        "from torch.utils.data import DataLoader, TensorDataset\n",
        "from torch.optim import Adam\n",
        "from torch.distributions.uniform import Uniform\n",
        "\n",
        "import matplotlib.pyplot as plt\n",
        "import seaborn as sns\n",
        "import pandas as pd\n",
        "\n"
      ]
    },
    {
      "cell_type": "code",
      "source": [
        "inputs = torch.tensor([[1.,0.,0.,0.],\n",
        "                      [0.,1.,0.,0.],\n",
        "                      [0.,0.,1.,0.],\n",
        "                      [0.,0.,0.,1.]])\n",
        "\n",
        "labels = torch.tensor([[0.,1.,0.,0.],\n",
        "                      [0.,0.,1.,0.],\n",
        "                      [0.,0.,0.,1.],\n",
        "                      [0.,1.,0.,0.]])\n",
        "\n",
        "dataset = TensorDataset(inputs, labels)\n",
        "dataloader = DataLoader(dataset)\n"
      ],
      "metadata": {
        "id": "1-GPj-cad98R"
      },
      "execution_count": 5,
      "outputs": []
    },
    {
      "cell_type": "code",
      "source": [
        "class WordEmbedding(nn.Module):\n",
        "    def __init__(self, embedding_dim=2):\n",
        "        super().__init__()\n",
        "        min_value = -0.5\n",
        "        max_value = 0.5\n",
        "\n",
        "        # Input embeddings\n",
        "        self.input_weights = nn.Parameter(\n",
        "            Uniform(min_value, max_value).sample((4, embedding_dim))\n",
        "        )\n",
        "\n",
        "        # Output weights\n",
        "        self.output_weights = nn.Parameter(\n",
        "            Uniform(min_value, max_value).sample((4, embedding_dim))\n",
        "        )\n",
        "\n",
        "        self.loss = nn.CrossEntropyLoss()\n",
        "\n",
        "    def forward(self, input_tensor):\n",
        "        # Get the embedding for the input word\n",
        "        batch_size = input_tensor.size(0)\n",
        "        embedded = torch.matmul(input_tensor, self.input_weights)\n",
        "\n",
        "        # Generate output scores\n",
        "        output = torch.matmul(embedded, self.output_weights.t())\n",
        "        return output\n",
        "\n",
        "    def configure_optimizers(self):\n",
        "        return Adam(self.parameters(), lr=0.01)\n",
        "\n",
        "    def training_step(self, batch, batch_idx):\n",
        "        input_i, label_i = batch\n",
        "        output_i = self.forward(input_i)\n",
        "        loss = self.loss(output_i, torch.argmax(label_i, dim=1))\n",
        "        return loss\n",
        "\n",
        "    def get_word_vectors(self):\n",
        "        return self.input_weights.detach()"
      ],
      "metadata": {
        "id": "3qiHld48fb_n"
      },
      "execution_count": 6,
      "outputs": []
    },
    {
      "cell_type": "code",
      "source": [
        "def test_word_embedding_improved():\n",
        "    # vocabulary mapping\n",
        "    vocab = {\n",
        "        0: \"word1\",\n",
        "        1: \"word2\",\n",
        "        2: \"word3\",\n",
        "        3: \"word4\"\n",
        "    }\n",
        "\n",
        "    inputs = torch.eye(4)\n",
        "    labels = torch.roll(torch.eye(4), shifts=-1, dims=0)\n",
        "\n",
        "    dataset = TensorDataset(inputs, labels)\n",
        "    dataloader = DataLoader(dataset, batch_size=4, shuffle=True)\n",
        "\n",
        "\n",
        "    model = WordEmbedding(embedding_dim=2)\n",
        "    optimizer = Adam(model.parameters(), lr=0.05)\n",
        "\n",
        "    num_epochs = 2000\n",
        "    best_loss = float('inf')\n",
        "\n",
        "    losses = []\n",
        "\n",
        "    print(\"Starting training...\")\n",
        "    for epoch in range(num_epochs):\n",
        "        model.train()\n",
        "        epoch_loss = 0\n",
        "\n",
        "        for batch in dataloader:\n",
        "            optimizer.zero_grad()\n",
        "            loss = model.training_step(batch, None)\n",
        "            loss.backward()\n",
        "\n",
        "            torch.nn.utils.clip_grad_norm_(model.parameters(), max_norm=1.0)\n",
        "\n",
        "            optimizer.step()\n",
        "            epoch_loss += loss.item()\n",
        "\n",
        "        losses.append(epoch_loss)\n",
        "        if (epoch + 1) % 200 == 0:\n",
        "            print(f'Epoch [{epoch+1}/{num_epochs}], Loss: {epoch_loss:.4f}')\n",
        "\n",
        "    plt.figure(figsize=(10, 5))\n",
        "    plt.plot(losses)\n",
        "    plt.title('Training Loss Over Time')\n",
        "    plt.xlabel('Epoch')\n",
        "    plt.ylabel('Loss')\n",
        "    plt.grid(True)\n",
        "    plt.show()\n",
        "\n",
        "    print(\"\\nPredictions:\")\n",
        "    model.eval()\n",
        "    with torch.no_grad():\n",
        "        test_input = torch.eye(4)\n",
        "        predictions = model(test_input)\n",
        "        predicted_indices = torch.argmax(predictions, dim=1)\n",
        "\n",
        "        for i, pred_idx in enumerate(predicted_indices):\n",
        "            input_word = vocab[i]\n",
        "            predicted_word = vocab[pred_idx.item()]\n",
        "            print(f\"{input_word} -> {predicted_word}\")\n",
        "\n",
        "    word_vectors = model.get_word_vectors().numpy()\n",
        "\n",
        "    plt.figure(figsize=(10, 8))\n",
        "\n",
        "    for i in range(len(word_vectors)):\n",
        "        next_i = (i + 1) % len(word_vectors)\n",
        "        plt.arrow(word_vectors[i, 0], word_vectors[i, 1],\n",
        "                 word_vectors[next_i, 0] - word_vectors[i, 0],\n",
        "                 word_vectors[next_i, 1] - word_vectors[i, 1],\n",
        "                 head_width=0.05, head_length=0.1, fc='gray', ec='gray', alpha=0.5)\n",
        "\n",
        "\n",
        "    plt.scatter(word_vectors[:, 0], word_vectors[:, 1], c='blue')\n",
        "\n",
        "\n",
        "    for i, word in vocab.items():\n",
        "        plt.annotate(word,\n",
        "                    (word_vectors[i, 0], word_vectors[i, 1]),\n",
        "                    xytext=(5, 5), textcoords='offset points')\n",
        "\n",
        "    plt.title(\"Word Embeddings Visualization\\n(arrows show word sequence)\")\n",
        "    plt.xlabel(\"Dimension 1\")\n",
        "    plt.ylabel(\"Dimension 2\")\n",
        "    plt.grid(True)\n",
        "    plt.show()\n",
        "\n",
        "    return model, word_vectors"
      ],
      "metadata": {
        "id": "ofvnJnMslOSG"
      },
      "execution_count": 8,
      "outputs": []
    },
    {
      "cell_type": "code",
      "source": [
        "model = test_word_embedding()"
      ],
      "metadata": {
        "colab": {
          "base_uri": "https://localhost:8080/",
          "height": 1000
        },
        "id": "lLYbVETndq2B",
        "outputId": "32e378ff-61f8-4e71-fed7-7cd74776a9d3"
      },
      "execution_count": 9,
      "outputs": [
        {
          "output_type": "stream",
          "name": "stdout",
          "text": [
            "Starting training...\n",
            "Epoch [100/1000], Loss: 0.4370\n",
            "Epoch [200/1000], Loss: 0.0452\n",
            "Epoch [300/1000], Loss: 0.0142\n",
            "Epoch [400/1000], Loss: 0.0074\n",
            "Epoch [500/1000], Loss: 0.0046\n",
            "Epoch [600/1000], Loss: 0.0032\n",
            "Epoch [700/1000], Loss: 0.0023\n",
            "Epoch [800/1000], Loss: 0.0018\n",
            "Epoch [900/1000], Loss: 0.0014\n",
            "Epoch [1000/1000], Loss: 0.0011\n",
            "\n",
            "Testing the model...\n",
            "\n",
            "Predictions:\n",
            "word1 -> word2\n",
            "word2 -> word3\n",
            "word3 -> word4\n",
            "word4 -> word1\n"
          ]
        },
        {
          "output_type": "display_data",
          "data": {
            "text/plain": [
              "<Figure size 1000x800 with 1 Axes>"
            ],
            "image/png": "[encoded data removed]"
          },
          "metadata": {}
        }
      ]
    },
    {
      "cell_type": "code",
      "source": [],
      "metadata": {
        "id": "IMM_t6deedqJ"
      },
      "execution_count": null,
      "outputs": []
    }
  ]
}